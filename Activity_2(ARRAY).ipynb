{
  "nbformat": 4,
  "nbformat_minor": 0,
  "metadata": {
    "colab": {
      "provenance": [],
      "authorship_tag": "ABX9TyOMFOmOjHDleiFUUMyKcni/",
      "include_colab_link": true
    },
    "kernelspec": {
      "name": "python3",
      "display_name": "Python 3"
    },
    "language_info": {
      "name": "python"
    }
  },
  "cells": [
    {
      "cell_type": "markdown",
      "metadata": {
        "id": "view-in-github",
        "colab_type": "text"
      },
      "source": [
        "<a href=\"https://colab.research.google.com/github/ColleenQuijano/CPEN65-2/blob/main/Activity_2(ARRAY).ipynb\" target=\"_parent\"><img src=\"https://colab.research.google.com/assets/colab-badge.svg\" alt=\"Open In Colab\"/></a>"
      ]
    },
    {
      "cell_type": "markdown",
      "source": [
        "##EXERCISE"
      ],
      "metadata": {
        "id": "i4Dd5uhDHm8L"
      }
    },
    {
      "cell_type": "code",
      "source": [
        "#1. Create a python program that use Array\n",
        "#2. Insert  each character of your full name and displays each character of your full name in reverse order\n",
        "\n",
        "data = input(\"Enter yout full name: \")\n",
        "print(\"\\n\")\n",
        "\n",
        "name = []\n",
        "for x in data:\n",
        "  name.append(x)\n",
        "print(\"The characters of my name in an array are:\", name)\n",
        "\n",
        "print(\"\\n\")\n",
        "\n",
        "name.reverse()\n",
        "print(\"The reverse characters of my name in an array are:\", name)"
      ],
      "metadata": {
        "colab": {
          "base_uri": "https://localhost:8080/"
        },
        "id": "qroBmj8GNyBB",
        "outputId": "0df5120d-6840-4988-8306-43625cf63f46"
      },
      "execution_count": 45,
      "outputs": [
        {
          "output_type": "stream",
          "name": "stdout",
          "text": [
            "Enter yout full name: Colleen M. Quijano\n",
            "\n",
            "\n",
            "The characters of my name in an array are: ['C', 'o', 'l', 'l', 'e', 'e', 'n', ' ', 'M', '.', ' ', 'Q', 'u', 'i', 'j', 'a', 'n', 'o']\n",
            "\n",
            "\n",
            "The reverse characters of my name in an array are: ['o', 'n', 'a', 'j', 'i', 'u', 'Q', ' ', '.', 'M', ' ', 'n', 'e', 'e', 'l', 'l', 'o', 'C']\n"
          ]
        }
      ]
    }
  ]
}