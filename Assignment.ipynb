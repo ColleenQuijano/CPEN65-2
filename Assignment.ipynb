{
  "nbformat": 4,
  "nbformat_minor": 0,
  "metadata": {
    "colab": {
      "provenance": [],
      "authorship_tag": "ABX9TyOJ32zazXpJwoy4XVSmskYt",
      "include_colab_link": true
    },
    "kernelspec": {
      "name": "python3",
      "display_name": "Python 3"
    },
    "language_info": {
      "name": "python"
    }
  },
  "cells": [
    {
      "cell_type": "markdown",
      "metadata": {
        "id": "view-in-github",
        "colab_type": "text"
      },
      "source": [
        "<a href=\"https://colab.research.google.com/github/ColleenQuijano/CPEN65-2/blob/main/Assignment.ipynb\" target=\"_parent\"><img src=\"https://colab.research.google.com/assets/colab-badge.svg\" alt=\"Open In Colab\"/></a>"
      ]
    },
    {
      "cell_type": "code",
      "execution_count": 11,
      "metadata": {
        "colab": {
          "base_uri": "https://localhost:8080/"
        },
        "id": "nd2h2tHY5LP0",
        "outputId": "2cae702e-3fac-4ce5-abde-8f95391c727d"
      },
      "outputs": [
        {
          "output_type": "stream",
          "name": "stdout",
          "text": [
            "Enter a value: 4\n",
            "\n",
            "\n",
            "Is the given in radius? (type YES if it is RADIUS and NO if DIAMETER.): YES\n",
            "\n",
            " The Area of the circle with the RADIUS of 4.0 is 50.27\n"
          ]
        }
      ],
      "source": [
        "import math\n",
        "class Circle:\n",
        "  def __init__(self, rad):\n",
        "    self.rad = rad\n",
        "  \n",
        "  def radius(self):\n",
        "    area = float((self.rad*self.rad)*math.pi)\n",
        "    return area\n",
        "\n",
        "  def dia(self):\n",
        "    area = float(((self.rad*self.rad)*math.pi)/4)\n",
        "    return area\n",
        "\n",
        "rad_input = float(input(\"Enter a value: \"))\n",
        "rad1 = Circle(rad_input)\n",
        "print(\"\\n\")\n",
        "given = input(\"Is the given in radius? (type YES if it is RADIUS and NO if DIAMETER.): \")\n",
        "if given == \"YES\":\n",
        "  print(\"\\n\", \"The Area of the circle with the RADIUS of\", rad_input, \"is\", round(rad1.radius(), 2))\n",
        "else:\n",
        "  if given == \"NO\":\n",
        "    print(\"\\n\", \"The Area of the circle with the  DIAMETER of\", rad_input, \"is\", round(rad1.dia(), 2))\n",
        "  else:\n",
        "    print(\"ERROR\")"
      ]
    }
  ]
}