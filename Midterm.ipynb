{
  "nbformat": 4,
  "nbformat_minor": 0,
  "metadata": {
    "colab": {
      "provenance": [],
      "authorship_tag": "ABX9TyOFjc8rFqKmsNLCBpEMq6gl",
      "include_colab_link": true
    },
    "kernelspec": {
      "name": "python3",
      "display_name": "Python 3"
    },
    "language_info": {
      "name": "python"
    }
  },
  "cells": [
    {
      "cell_type": "markdown",
      "metadata": {
        "id": "view-in-github",
        "colab_type": "text"
      },
      "source": [
        "<a href=\"https://colab.research.google.com/github/ColleenQuijano/CPEN65-2/blob/main/Midterm.ipynb\" target=\"_parent\"><img src=\"https://colab.research.google.com/assets/colab-badge.svg\" alt=\"Open In Colab\"/></a>"
      ]
    },
    {
      "cell_type": "markdown",
      "source": [
        "1. Write a Python program to create an array of 10 integers and display the array\n",
        "items. Access individual elements through indexes and compute for the sum."
      ],
      "metadata": {
        "id": "IWlM0jfkN6f1"
      }
    },
    {
      "cell_type": "code",
      "execution_count": 118,
      "metadata": {
        "colab": {
          "base_uri": "https://localhost:8080/"
        },
        "id": "NTlRIrNG9vFl",
        "outputId": "9dba1425-f9bf-4db2-db1e-820ed9a870b0"
      },
      "outputs": [
        {
          "output_type": "stream",
          "name": "stdout",
          "text": [
            "array('i', [1, 2, 3, 4, 5, 6, 7, 8, 9, 10])\n",
            "Enter 1st index: 9\n",
            "Enter 2nd index: 9\n",
            "\n",
            " The value of 9 index: 10\n",
            "The value of 9 index: 10 \n",
            "\n",
            "The sum of value of the indexes is  20\n"
          ]
        }
      ],
      "source": [
        "import array as arr\n",
        "\n",
        "arr.typecodes\n",
        "array_10 = arr.array('i',[1,2,3,4,5,6,7,8,9,10])\n",
        "print(array_10)\n",
        "\n",
        "first = int((input(\"Enter 1st index: \")))\n",
        "second = int((input(\"Enter 2nd index: \") ))\n",
        "\n",
        "fi_arr = array_10[first]\n",
        "se_arr = array_10[second]\n",
        "print(\"\\n\", \"The value of\", first, \"index:\", fi_arr )\n",
        "print(\"The value of\",second,\"index:\", se_arr,\"\\n\")\n",
        "\n",
        "sum = (fi_arr + se_arr)\n",
        "print(\"The sum of value of the indexes is \",sum)\n",
        "\n"
      ]
    },
    {
      "cell_type": "markdown",
      "source": [
        "2. Write a Python program to append a new item to the end of the array. Original\n",
        "array: numbers = [1, 2, 3, 4, 5, 6, 7, 8, 9, 10]"
      ],
      "metadata": {
        "id": "IuaBCErDN_bg"
      }
    },
    {
      "cell_type": "code",
      "source": [
        "from array import *\n",
        "\n",
        "numbers = array(\"i\",[1, 2, 3, 4, 5, 6, 7, 8, 9, 10])\n",
        "val = int(input(\"Input value:\"))\n",
        "\n",
        "print(\"The original array is \", numbers)\n",
        "numbers.append(val)\n",
        "print(\"The appended array is \", numbers)\n"
      ],
      "metadata": {
        "id": "Uevx6ovuEyXe",
        "colab": {
          "base_uri": "https://localhost:8080/"
        },
        "outputId": "ef29c1c2-8148-451b-d736-22715ede45ab"
      },
      "execution_count": 82,
      "outputs": [
        {
          "output_type": "stream",
          "name": "stdout",
          "text": [
            "Input value:16\n",
            "The original array is  array('i', [1, 2, 3, 4, 5, 6, 7, 8, 9, 10])\n",
            "The appended array is  array('i', [1, 2, 3, 4, 5, 6, 7, 8, 9, 10, 16])\n"
          ]
        }
      ]
    },
    {
      "cell_type": "markdown",
      "source": [
        "3. Write a Python program to insert a new item before the second element in an\n",
        "existing array. Original array: numbers = [1, 2, 3, 4, 5, 6, 7, 8, 9, 10]"
      ],
      "metadata": {
        "id": "cpBMhzorODlX"
      }
    },
    {
      "cell_type": "code",
      "source": [
        "from array import *\n",
        "\n",
        "numbers = array(\"i\",[1, 2, 3, 4, 5, 6, 7, 8, 9, 10])\n",
        "val = int(input(\"Input value: \"))\n",
        "\n",
        "print(\"The original array is \", numbers)\n",
        "numbers.insert(1, val)\n",
        "print(\"The new array with inserted value is \", numbers)\n"
      ],
      "metadata": {
        "colab": {
          "base_uri": "https://localhost:8080/"
        },
        "id": "RCAjGFOaL753",
        "outputId": "6b3bfa2a-dbca-464f-e078-fc139b2430b7"
      },
      "execution_count": 119,
      "outputs": [
        {
          "output_type": "stream",
          "name": "stdout",
          "text": [
            "Input value: 18\n",
            "The original array is  array('i', [1, 2, 3, 4, 5, 6, 7, 8, 9, 10])\n",
            "The new array with inserted value is  array('i', [1, 18, 2, 3, 4, 5, 6, 7, 8, 9, 10])\n"
          ]
        }
      ]
    },
    {
      "cell_type": "markdown",
      "source": [
        "4. Write a Python program to reverse the order of the items in the array. Original\n",
        " array: numbers = [5, 4, 3, 2, 1]"
      ],
      "metadata": {
        "id": "OIbu-nCAOGhJ"
      }
    },
    {
      "cell_type": "code",
      "source": [
        "from array import *\n",
        "\n",
        "numbers =  array(\"i\",[5, 4, 3, 2, 1])\n",
        "print(\"The original array is \", numbers)\n",
        "\n",
        "numbers.reverse()\n",
        "print(\"The reversed array is \", numbers)"
      ],
      "metadata": {
        "colab": {
          "base_uri": "https://localhost:8080/"
        },
        "id": "p5xtt6SSMfpw",
        "outputId": "fdc0a56c-44ec-4509-c007-bf8d671ff002"
      },
      "execution_count": 84,
      "outputs": [
        {
          "output_type": "stream",
          "name": "stdout",
          "text": [
            "The original array is  array('i', [5, 4, 3, 2, 1])\n",
            "The reversed array is  array('i', [1, 2, 3, 4, 5])\n"
          ]
        }
      ]
    },
    {
      "cell_type": "markdown",
      "source": [
        "5. Write a Python program to get the length of the array. Original array: numbers =\n",
        " [5, 4, 3, 2, 1]"
      ],
      "metadata": {
        "id": "f1PAjB1hOIWB"
      }
    },
    {
      "cell_type": "code",
      "source": [
        "from array import *\n",
        "\n",
        "numbers =  array(\"i\",[5, 4, 3, 2, 1])\n",
        "num = len(numbers)\n",
        "print(\"The number of array is\", num)"
      ],
      "metadata": {
        "colab": {
          "base_uri": "https://localhost:8080/"
        },
        "id": "lIT6fvlpM68m",
        "outputId": "064a4633-eafd-4312-b920-3cd89fbdef26"
      },
      "execution_count": 87,
      "outputs": [
        {
          "output_type": "stream",
          "name": "stdout",
          "text": [
            "The number of array is 5\n"
          ]
        }
      ]
    }
  ]
}