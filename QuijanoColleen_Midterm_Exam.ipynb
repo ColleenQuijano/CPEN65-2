{
  "nbformat": 4,
  "nbformat_minor": 0,
  "metadata": {
    "colab": {
      "provenance": [],
      "authorship_tag": "ABX9TyO3c6b4jwjIic75u82WDwEh",
      "include_colab_link": true
    },
    "kernelspec": {
      "name": "python3",
      "display_name": "Python 3"
    },
    "language_info": {
      "name": "python"
    }
  },
  "cells": [
    {
      "cell_type": "markdown",
      "metadata": {
        "id": "view-in-github",
        "colab_type": "text"
      },
      "source": [
        "<a href=\"https://colab.research.google.com/github/ColleenQuijano/CPEN65-2/blob/main/QuijanoColleen_Midterm_Exam.ipynb\" target=\"_parent\"><img src=\"https://colab.research.google.com/assets/colab-badge.svg\" alt=\"Open In Colab\"/></a>"
      ]
    },
    {
      "cell_type": "markdown",
      "source": [
        "1. Write a Python program to create an array of 10 integers and display the array\n",
        "items. Access individual elements through indexes and compute for the sum."
      ],
      "metadata": {
        "id": "IWlM0jfkN6f1"
      }
    },
    {
      "cell_type": "code",
      "execution_count": 126,
      "metadata": {
        "colab": {
          "base_uri": "https://localhost:8080/"
        },
        "id": "NTlRIrNG9vFl",
        "outputId": "b42c8702-bc23-4632-9bb6-25dd41a18b88"
      },
      "outputs": [
        {
          "output_type": "stream",
          "name": "stdout",
          "text": [
            "array('i', [1, 2, 3, 4, 5, 6, 7, 8, 9, 10]) \n",
            "\n",
            "Enter 1st index: 4\n",
            "Enter 2nd index: 5\n",
            "Enter 3rd index: 6\n",
            "\n",
            "\n",
            "The value of index 4 is  5\n",
            "The value of index 5 is  6\n",
            "The value of index 6 is  7 \n",
            "\n",
            "The sum of value of the indexes is  18\n"
          ]
        }
      ],
      "source": [
        "import array as arr\n",
        "\n",
        "arr.typecodes\n",
        "array_10 = arr.array('i',[1,2,3,4,5,6,7,8,9,10])\n",
        "print(array_10, \"\\n\")\n",
        "\n",
        "idx1 = int((input(\"Enter 1st index: \")))\n",
        "idx2 = int((input(\"Enter 2nd index: \") ))\n",
        "idx3 = int((input(\"Enter 3rd index: \") ))\n",
        "print(\"\\n\")\n",
        "\n",
        "arr_1 = array_10[idx1]\n",
        "arr_2 = array_10[idx2]\n",
        "arr_3 = array_10[idx3]\n",
        "print(\"The value of index\", idx1, \"is \", arr_1 )\n",
        "print(\"The value of index\",idx2,\"is \", arr_2)\n",
        "print(\"The value of index\",idx3,\"is \", arr_3,\"\\n\")\n",
        "sum = (arr_1+ arr_2+ arr_3)\n",
        "print(\"The sum of value of the indexes is \",sum)\n",
        "\n"
      ]
    },
    {
      "cell_type": "markdown",
      "source": [
        "2. Write a Python program to append a new item to the end of the array. Original\n",
        "array: numbers = [1, 2, 3, 4, 5, 6, 7, 8, 9, 10]"
      ],
      "metadata": {
        "id": "IuaBCErDN_bg"
      }
    },
    {
      "cell_type": "code",
      "source": [
        "from array import *\n",
        "\n",
        "numbers = array(\"i\",[1, 2, 3, 4, 5, 6, 7, 8, 9, 10])\n",
        "val = int(input(\"Input value:\"))\n",
        "\n",
        "print(\"The original array is \", numbers)\n",
        "numbers.append(val)\n",
        "print(\"The appended array is \", numbers)\n"
      ],
      "metadata": {
        "id": "Uevx6ovuEyXe",
        "colab": {
          "base_uri": "https://localhost:8080/"
        },
        "outputId": "ef29c1c2-8148-451b-d736-22715ede45ab"
      },
      "execution_count": 82,
      "outputs": [
        {
          "output_type": "stream",
          "name": "stdout",
          "text": [
            "Input value:16\n",
            "The original array is  array('i', [1, 2, 3, 4, 5, 6, 7, 8, 9, 10])\n",
            "The appended array is  array('i', [1, 2, 3, 4, 5, 6, 7, 8, 9, 10, 16])\n"
          ]
        }
      ]
    },
    {
      "cell_type": "markdown",
      "source": [
        "3. Write a Python program to insert a new item before the second element in an\n",
        "existing array. Original array: numbers = [1, 2, 3, 4, 5, 6, 7, 8, 9, 10]"
      ],
      "metadata": {
        "id": "cpBMhzorODlX"
      }
    },
    {
      "cell_type": "code",
      "source": [
        "from array import *\n",
        "\n",
        "numbers = array(\"i\",[1, 2, 3, 4, 5, 6, 7, 8, 9, 10])\n",
        "val = int(input(\"Input value: \"))\n",
        "\n",
        "print(\"The original array is \", numbers)\n",
        "numbers.insert(1, val)\n",
        "print(\"The new array with inserted value is \", numbers)\n"
      ],
      "metadata": {
        "colab": {
          "base_uri": "https://localhost:8080/"
        },
        "id": "RCAjGFOaL753",
        "outputId": "6b3bfa2a-dbca-464f-e078-fc139b2430b7"
      },
      "execution_count": 119,
      "outputs": [
        {
          "output_type": "stream",
          "name": "stdout",
          "text": [
            "Input value: 18\n",
            "The original array is  array('i', [1, 2, 3, 4, 5, 6, 7, 8, 9, 10])\n",
            "The new array with inserted value is  array('i', [1, 18, 2, 3, 4, 5, 6, 7, 8, 9, 10])\n"
          ]
        }
      ]
    },
    {
      "cell_type": "markdown",
      "source": [
        "4. Write a Python program to reverse the order of the items in the array. Original\n",
        " array: numbers = [5, 4, 3, 2, 1]"
      ],
      "metadata": {
        "id": "OIbu-nCAOGhJ"
      }
    },
    {
      "cell_type": "code",
      "source": [
        "from array import *\n",
        "\n",
        "numbers =  array(\"i\",[5, 4, 3, 2, 1])\n",
        "print(\"The original array is \", numbers)\n",
        "\n",
        "numbers.reverse()\n",
        "print(\"The reversed array is \", numbers)"
      ],
      "metadata": {
        "colab": {
          "base_uri": "https://localhost:8080/"
        },
        "id": "p5xtt6SSMfpw",
        "outputId": "fdc0a56c-44ec-4509-c007-bf8d671ff002"
      },
      "execution_count": 84,
      "outputs": [
        {
          "output_type": "stream",
          "name": "stdout",
          "text": [
            "The original array is  array('i', [5, 4, 3, 2, 1])\n",
            "The reversed array is  array('i', [1, 2, 3, 4, 5])\n"
          ]
        }
      ]
    },
    {
      "cell_type": "markdown",
      "source": [
        "5. Write a Python program to get the length of the array. Original array: numbers =\n",
        " [5, 4, 3, 2, 1]"
      ],
      "metadata": {
        "id": "f1PAjB1hOIWB"
      }
    },
    {
      "cell_type": "code",
      "source": [
        "from array import *\n",
        "\n",
        "numbers =  array(\"i\",[5, 4, 3, 2, 1])\n",
        "num = len(numbers)\n",
        "print(\"The number of array is\", num)"
      ],
      "metadata": {
        "colab": {
          "base_uri": "https://localhost:8080/"
        },
        "id": "lIT6fvlpM68m",
        "outputId": "064a4633-eafd-4312-b920-3cd89fbdef26"
      },
      "execution_count": 87,
      "outputs": [
        {
          "output_type": "stream",
          "name": "stdout",
          "text": [
            "The number of array is 5\n"
          ]
        }
      ]
    }
  ]
}